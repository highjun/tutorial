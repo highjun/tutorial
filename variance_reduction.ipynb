{
 "metadata": {
  "orig_nbformat": 2,
  "kernelspec": {
   "name": "python3",
   "display_name": "Python 3",
   "language": "python"
  }
 },
 "nbformat": 4,
 "nbformat_minor": 2,
 "cells": [
  {
   "cell_type": "code",
   "execution_count": 2,
   "metadata": {},
   "outputs": [],
   "source": [
    "import numpy as np"
   ]
  },
  {
   "source": [
    "### Anti-thetic Method"
   ],
   "cell_type": "markdown",
   "metadata": {}
  },
  {
   "cell_type": "code",
   "execution_count": 29,
   "metadata": {},
   "outputs": [
    {
     "output_type": "stream",
     "name": "stdout",
     "text": [
      "Base mean: 0.6964, std: 0.00363\nTheoretic std: 0.00361\nAntiVariate mean: 0.6934, std: 0.00063\nTheoretic std: 0.00063\n"
     ]
    }
   ],
   "source": [
    "n = 1500\n",
    "sample = np.random.rand(n)\n",
    "base = 1/(1+sample)\n",
    "print(f\"Base mean: {np.mean(base):.4f}, std: {np.std(base)/np.sqrt(n):.5f}\")\n",
    "print(f\"Theoretic std: {np.sqrt((1/2-np.log(2)**2)/n):.5f}\")\n",
    "anti_variate = (1/(1+sample) + 1/(2-sample))/2\n",
    "print(f\"AntiVariate mean: {np.mean(anti_variate):.4f}, std: {np.std(anti_variate)/np.sqrt(n):.5f}\")\n",
    "print(f\"Theoretic std: {np.sqrt((np.log(2)/3+ 1/4 -np.log(2)**2)/n):.5f}\")\n"
   ]
  },
  {
   "source": [
    "### Control Variate Method"
   ],
   "cell_type": "markdown",
   "metadata": {}
  },
  {
   "cell_type": "code",
   "execution_count": 45,
   "metadata": {},
   "outputs": [
    {
     "output_type": "stream",
     "name": "stdout",
     "text": [
      "Base mean: 0.6950, std: 0.00363\nTheoretic std: 0.00361\nControl Variate mean: 0.6930, std: 0.00066\nTheoretic std: 0.00066\n"
     ]
    }
   ],
   "source": [
    "n = 1500\n",
    "sample = np.random.rand(n)\n",
    "base = 1/(1+sample)\n",
    "c =.5\n",
    "print(f\"Base mean: {np.mean(base):.4f}, std: {np.std(base)/np.sqrt(n):.5f}\")\n",
    "print(f\"Theoretic std: {np.sqrt((1/2-np.log(2)**2)/n):.5f}\")\n",
    "control_variate = 1/(1+sample) + (sample-.5)*c\n",
    "print(f\"Control Variate mean: {np.mean(control_variate):.4f}, std: {np.std(control_variate)/np.sqrt(n):.5f}\")\n",
    "print(f\"Theoretic std: {np.sqrt((1/2 +(c**2)/12+c*(2-3*np.log(2))- np.log(2)**2)/n):.5f}\")\n"
   ]
  },
  {
   "source": [
    "### Importance Sampling"
   ],
   "cell_type": "markdown",
   "metadata": {}
  },
  {
   "cell_type": "code",
   "execution_count": 155,
   "metadata": {},
   "outputs": [
    {
     "output_type": "stream",
     "name": "stdout",
     "text": [
      "Base mean: 0.6936, std: 0.00364\nTheoretic std: 0.00361\nImportance mean: 0.6931, std: 0.00000\nImportance mean: 0.6933, std: 0.00181\n"
     ]
    }
   ],
   "source": [
    "n = 1500\n",
    "sample = np.random.rand(n)\n",
    "base = 1/(1+sample)\n",
    "print(f\"Base mean: {np.mean(base):.4f}, std: {np.std(base)/np.sqrt(n):.5f}\")\n",
    "print(f\"Theoretic std: {np.sqrt((1/2-np.log(2)**2)/n):.5f}\")\n",
    "# 1/(ln2 * (1+x))\n",
    "sample_important = np.log(1+sample)/np.log(2)\n",
    "importance = np.log(2)\n",
    "print(f\"Importance mean: {np.mean(importance):.4f}, std: {np.std(importance)/np.sqrt(n):.5f}\")\n",
    "# (1+x)**(-0.5)/(2(sqrt(2)-1))\n",
    "cons = 2*np.sqrt(2) - 2\n",
    "sample_important =  (cons* sample/2 +1) **2 -1\n",
    "importance = (1+sample_important)**-.5 * cons\n",
    "print(f\"Importance mean: {np.mean(importance):.4f}, std: {np.std(importance)/np.sqrt(n):.5f}\")\n"
   ]
  },
  {
   "cell_type": "code",
   "execution_count": null,
   "metadata": {},
   "outputs": [],
   "source": []
  }
 ]
}